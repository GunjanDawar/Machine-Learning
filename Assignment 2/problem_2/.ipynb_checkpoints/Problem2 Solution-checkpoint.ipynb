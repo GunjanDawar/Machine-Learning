{
 "cells": [
  {
   "cell_type": "code",
   "execution_count": 556,
   "metadata": {},
   "outputs": [],
   "source": [
    "%matplotlib inline\n",
    "import matplotlib\n",
    "import matplotlib.pyplot as plt\n",
    "import numpy as np\n",
    "import pandas as pd\n",
    "import cv2\n",
    "from sklearn import metrics\n",
    "import seaborn as sns\n",
    "import sklearn\n",
    "import math\n",
    "from sklearn.linear_model import Ridge\n",
    "from sklearn.linear_model import Lasso\n",
    "from sklearn.model_selection import train_test_split\n",
    "from sklearn.linear_model import LinearRegression\n",
    "from sklearn.preprocessing import LabelEncoder\n",
    "from sklearn.preprocessing import OneHotEncoder"
   ]
  },
  {
   "cell_type": "code",
   "execution_count": 557,
   "metadata": {},
   "outputs": [
    {
     "data": {
      "text/html": [
       "<div>\n",
       "<style scoped>\n",
       "    .dataframe tbody tr th:only-of-type {\n",
       "        vertical-align: middle;\n",
       "    }\n",
       "\n",
       "    .dataframe tbody tr th {\n",
       "        vertical-align: top;\n",
       "    }\n",
       "\n",
       "    .dataframe thead th {\n",
       "        text-align: right;\n",
       "    }\n",
       "</style>\n",
       "<table border=\"1\" class=\"dataframe\">\n",
       "  <thead>\n",
       "    <tr style=\"text-align: right;\">\n",
       "      <th></th>\n",
       "      <th>srno</th>\n",
       "      <th>mobmake</th>\n",
       "      <th>hubid</th>\n",
       "      <th>hubpincode</th>\n",
       "      <th>pickuppartnerid</th>\n",
       "      <th>deliverypartnerid</th>\n",
       "      <th>insuranceCompanyId</th>\n",
       "      <th>custpincodecategory</th>\n",
       "      <th>claimtype</th>\n",
       "      <th>custpincode</th>\n",
       "      <th>memcreateddate</th>\n",
       "      <th>mobilepurchasedate</th>\n",
       "      <th>claimintdate</th>\n",
       "      <th>servicecntrid</th>\n",
       "      <th>pickupStartdate</th>\n",
       "      <th>tat_in_days</th>\n",
       "    </tr>\n",
       "  </thead>\n",
       "  <tbody>\n",
       "    <tr>\n",
       "      <th>0</th>\n",
       "      <td>2851218</td>\n",
       "      <td>AN</td>\n",
       "      <td>7</td>\n",
       "      <td>500004</td>\n",
       "      <td>233</td>\n",
       "      <td>233</td>\n",
       "      <td>131</td>\n",
       "      <td>A</td>\n",
       "      <td>ADLD</td>\n",
       "      <td>500001</td>\n",
       "      <td>2017-04-27</td>\n",
       "      <td>2016-12-02</td>\n",
       "      <td>2018-02-08</td>\n",
       "      <td>4403</td>\n",
       "      <td>2018-02-13</td>\n",
       "      <td>5</td>\n",
       "    </tr>\n",
       "    <tr>\n",
       "      <th>1</th>\n",
       "      <td>2838330</td>\n",
       "      <td>AJ</td>\n",
       "      <td>10</td>\n",
       "      <td>226010</td>\n",
       "      <td>233</td>\n",
       "      <td>233</td>\n",
       "      <td>131</td>\n",
       "      <td>A</td>\n",
       "      <td>ADLD</td>\n",
       "      <td>226022</td>\n",
       "      <td>2017-03-06</td>\n",
       "      <td>2017-03-05</td>\n",
       "      <td>2018-02-04</td>\n",
       "      <td>4444</td>\n",
       "      <td>2018-02-08</td>\n",
       "      <td>12</td>\n",
       "    </tr>\n",
       "    <tr>\n",
       "      <th>2</th>\n",
       "      <td>2835781</td>\n",
       "      <td>AJ</td>\n",
       "      <td>2</td>\n",
       "      <td>110018</td>\n",
       "      <td>233</td>\n",
       "      <td>233</td>\n",
       "      <td>228</td>\n",
       "      <td>A</td>\n",
       "      <td>ADLD</td>\n",
       "      <td>110018</td>\n",
       "      <td>2018-02-01</td>\n",
       "      <td>2018-01-27</td>\n",
       "      <td>2018-02-03</td>\n",
       "      <td>4388</td>\n",
       "      <td>2018-02-12</td>\n",
       "      <td>9</td>\n",
       "    </tr>\n",
       "    <tr>\n",
       "      <th>3</th>\n",
       "      <td>2838589</td>\n",
       "      <td>AM</td>\n",
       "      <td>2</td>\n",
       "      <td>110018</td>\n",
       "      <td>233</td>\n",
       "      <td>233</td>\n",
       "      <td>228</td>\n",
       "      <td>B</td>\n",
       "      <td>ADLD</td>\n",
       "      <td>124001</td>\n",
       "      <td>2018-01-17</td>\n",
       "      <td>2018-01-31</td>\n",
       "      <td>2018-02-04</td>\n",
       "      <td>4092</td>\n",
       "      <td>2018-02-14</td>\n",
       "      <td>9</td>\n",
       "    </tr>\n",
       "    <tr>\n",
       "      <th>4</th>\n",
       "      <td>2855214</td>\n",
       "      <td>AN</td>\n",
       "      <td>21</td>\n",
       "      <td>110015</td>\n",
       "      <td>233</td>\n",
       "      <td>233</td>\n",
       "      <td>131</td>\n",
       "      <td>A</td>\n",
       "      <td>ADLD</td>\n",
       "      <td>201301</td>\n",
       "      <td>2018-01-23</td>\n",
       "      <td>2018-01-20</td>\n",
       "      <td>2018-02-09</td>\n",
       "      <td>4580</td>\n",
       "      <td>2018-02-14</td>\n",
       "      <td>8</td>\n",
       "    </tr>\n",
       "  </tbody>\n",
       "</table>\n",
       "</div>"
      ],
      "text/plain": [
       "      srno mobmake  hubid  hubpincode  pickuppartnerid  deliverypartnerid  \\\n",
       "0  2851218      AN      7      500004              233                233   \n",
       "1  2838330      AJ     10      226010              233                233   \n",
       "2  2835781      AJ      2      110018              233                233   \n",
       "3  2838589      AM      2      110018              233                233   \n",
       "4  2855214      AN     21      110015              233                233   \n",
       "\n",
       "   insuranceCompanyId custpincodecategory claimtype  custpincode  \\\n",
       "0                 131                   A      ADLD       500001   \n",
       "1                 131                   A      ADLD       226022   \n",
       "2                 228                   A      ADLD       110018   \n",
       "3                 228                   B      ADLD       124001   \n",
       "4                 131                   A      ADLD       201301   \n",
       "\n",
       "  memcreateddate mobilepurchasedate claimintdate  servicecntrid  \\\n",
       "0     2017-04-27         2016-12-02   2018-02-08           4403   \n",
       "1     2017-03-06         2017-03-05   2018-02-04           4444   \n",
       "2     2018-02-01         2018-01-27   2018-02-03           4388   \n",
       "3     2018-01-17         2018-01-31   2018-02-04           4092   \n",
       "4     2018-01-23         2018-01-20   2018-02-09           4580   \n",
       "\n",
       "  pickupStartdate  tat_in_days  \n",
       "0      2018-02-13            5  \n",
       "1      2018-02-08           12  \n",
       "2      2018-02-12            9  \n",
       "3      2018-02-14            9  \n",
       "4      2018-02-14            8  "
      ]
     },
     "execution_count": 557,
     "metadata": {},
     "output_type": "execute_result"
    }
   ],
   "source": [
    "df=pd.read_csv('problem_2_train.csv')\n",
    "dft=pd.read_csv('problem_2_test.csv',index_col=0)\n",
    "df.head()"
   ]
  },
  {
   "cell_type": "code",
   "execution_count": 558,
   "metadata": {},
   "outputs": [
    {
     "data": {
      "text/html": [
       "<div>\n",
       "<style scoped>\n",
       "    .dataframe tbody tr th:only-of-type {\n",
       "        vertical-align: middle;\n",
       "    }\n",
       "\n",
       "    .dataframe tbody tr th {\n",
       "        vertical-align: top;\n",
       "    }\n",
       "\n",
       "    .dataframe thead th {\n",
       "        text-align: right;\n",
       "    }\n",
       "</style>\n",
       "<table border=\"1\" class=\"dataframe\">\n",
       "  <thead>\n",
       "    <tr style=\"text-align: right;\">\n",
       "      <th></th>\n",
       "      <th>srno</th>\n",
       "      <th>mobmake</th>\n",
       "      <th>hubid</th>\n",
       "      <th>hubpincode</th>\n",
       "      <th>pickuppartnerid</th>\n",
       "      <th>deliverypartnerid</th>\n",
       "      <th>insuranceCompanyId</th>\n",
       "      <th>custpincodecategory</th>\n",
       "      <th>claimtype</th>\n",
       "      <th>custpincode</th>\n",
       "      <th>memcreateddate</th>\n",
       "      <th>mobilepurchasedate</th>\n",
       "      <th>claimintdate</th>\n",
       "      <th>servicecntrid</th>\n",
       "      <th>pickupStartdate</th>\n",
       "      <th>pickupStartdate_Code</th>\n",
       "      <th>claimintdate_Code</th>\n",
       "      <th>tat_in_days</th>\n",
       "    </tr>\n",
       "  </thead>\n",
       "  <tbody>\n",
       "    <tr>\n",
       "      <th>2</th>\n",
       "      <td>2894489</td>\n",
       "      <td>10</td>\n",
       "      <td>3</td>\n",
       "      <td>560011</td>\n",
       "      <td>233</td>\n",
       "      <td>233</td>\n",
       "      <td>228</td>\n",
       "      <td>2</td>\n",
       "      <td>0</td>\n",
       "      <td>590014</td>\n",
       "      <td>2018-01-12</td>\n",
       "      <td>2018-01-11</td>\n",
       "      <td>2018-02-21</td>\n",
       "      <td>4460</td>\n",
       "      <td>2018-02-28</td>\n",
       "      <td>1519776000000000000</td>\n",
       "      <td>1519171200000000000</td>\n",
       "      <td>13</td>\n",
       "    </tr>\n",
       "    <tr>\n",
       "      <th>3</th>\n",
       "      <td>2876708</td>\n",
       "      <td>10</td>\n",
       "      <td>2</td>\n",
       "      <td>110018</td>\n",
       "      <td>233</td>\n",
       "      <td>233</td>\n",
       "      <td>228</td>\n",
       "      <td>1</td>\n",
       "      <td>0</td>\n",
       "      <td>250110</td>\n",
       "      <td>2017-08-07</td>\n",
       "      <td>2017-05-21</td>\n",
       "      <td>2018-02-16</td>\n",
       "      <td>4388</td>\n",
       "      <td>2018-02-26</td>\n",
       "      <td>1519603200000000000</td>\n",
       "      <td>1518739200000000000</td>\n",
       "      <td>13</td>\n",
       "    </tr>\n",
       "    <tr>\n",
       "      <th>4</th>\n",
       "      <td>2890283</td>\n",
       "      <td>13</td>\n",
       "      <td>22</td>\n",
       "      <td>400104</td>\n",
       "      <td>233</td>\n",
       "      <td>233</td>\n",
       "      <td>131</td>\n",
       "      <td>2</td>\n",
       "      <td>0</td>\n",
       "      <td>496001</td>\n",
       "      <td>2017-11-10</td>\n",
       "      <td>2017-09-22</td>\n",
       "      <td>2018-02-20</td>\n",
       "      <td>4581</td>\n",
       "      <td>2018-02-23</td>\n",
       "      <td>1519344000000000000</td>\n",
       "      <td>1519084800000000000</td>\n",
       "      <td>13</td>\n",
       "    </tr>\n",
       "    <tr>\n",
       "      <th>5</th>\n",
       "      <td>2897438</td>\n",
       "      <td>15</td>\n",
       "      <td>6</td>\n",
       "      <td>160059</td>\n",
       "      <td>233</td>\n",
       "      <td>233</td>\n",
       "      <td>131</td>\n",
       "      <td>1</td>\n",
       "      <td>0</td>\n",
       "      <td>160036</td>\n",
       "      <td>2017-12-12</td>\n",
       "      <td>2017-12-10</td>\n",
       "      <td>2018-02-22</td>\n",
       "      <td>4549</td>\n",
       "      <td>2018-02-27</td>\n",
       "      <td>1519689600000000000</td>\n",
       "      <td>1519257600000000000</td>\n",
       "      <td>11</td>\n",
       "    </tr>\n",
       "    <tr>\n",
       "      <th>8</th>\n",
       "      <td>2941799</td>\n",
       "      <td>13</td>\n",
       "      <td>21</td>\n",
       "      <td>110015</td>\n",
       "      <td>233</td>\n",
       "      <td>233</td>\n",
       "      <td>131</td>\n",
       "      <td>1</td>\n",
       "      <td>0</td>\n",
       "      <td>124001</td>\n",
       "      <td>2017-12-31</td>\n",
       "      <td>2017-06-26</td>\n",
       "      <td>2018-03-05</td>\n",
       "      <td>4580</td>\n",
       "      <td>2018-03-14</td>\n",
       "      <td>1520985600000000000</td>\n",
       "      <td>1520208000000000000</td>\n",
       "      <td>11</td>\n",
       "    </tr>\n",
       "  </tbody>\n",
       "</table>\n",
       "</div>"
      ],
      "text/plain": [
       "      srno  mobmake  hubid  hubpincode  pickuppartnerid  deliverypartnerid  \\\n",
       "2  2894489       10      3      560011              233                233   \n",
       "3  2876708       10      2      110018              233                233   \n",
       "4  2890283       13     22      400104              233                233   \n",
       "5  2897438       15      6      160059              233                233   \n",
       "8  2941799       13     21      110015              233                233   \n",
       "\n",
       "   insuranceCompanyId  custpincodecategory  claimtype  custpincode  \\\n",
       "2                 228                    2          0       590014   \n",
       "3                 228                    1          0       250110   \n",
       "4                 131                    2          0       496001   \n",
       "5                 131                    1          0       160036   \n",
       "8                 131                    1          0       124001   \n",
       "\n",
       "  memcreateddate mobilepurchasedate claimintdate  servicecntrid  \\\n",
       "2     2018-01-12         2018-01-11   2018-02-21           4460   \n",
       "3     2017-08-07         2017-05-21   2018-02-16           4388   \n",
       "4     2017-11-10         2017-09-22   2018-02-20           4581   \n",
       "5     2017-12-12         2017-12-10   2018-02-22           4549   \n",
       "8     2017-12-31         2017-06-26   2018-03-05           4580   \n",
       "\n",
       "  pickupStartdate  pickupStartdate_Code    claimintdate_Code  tat_in_days  \n",
       "2      2018-02-28   1519776000000000000  1519171200000000000           13  \n",
       "3      2018-02-26   1519603200000000000  1518739200000000000           13  \n",
       "4      2018-02-23   1519344000000000000  1519084800000000000           13  \n",
       "5      2018-02-27   1519689600000000000  1519257600000000000           11  \n",
       "8      2018-03-14   1520985600000000000  1520208000000000000           11  "
      ]
     },
     "execution_count": 558,
     "metadata": {},
     "output_type": "execute_result"
    }
   ],
   "source": [
    "dft.head()"
   ]
  },
  {
   "cell_type": "code",
   "execution_count": 559,
   "metadata": {},
   "outputs": [
    {
     "data": {
      "text/plain": [
       "array(['ADLD', 'EW'], dtype=object)"
      ]
     },
     "execution_count": 559,
     "metadata": {},
     "output_type": "execute_result"
    }
   ],
   "source": [
    "df.claimtype.unique()"
   ]
  },
  {
   "cell_type": "markdown",
   "metadata": {},
   "source": [
    "### Converting categorical data(mobmake,claimtype,custpincodecategory) of train file into numbers."
   ]
  },
  {
   "cell_type": "code",
   "execution_count": 560,
   "metadata": {},
   "outputs": [],
   "source": [
    "le=LabelEncoder()\n",
    "dfle=df\n",
    "dfle.mobmake=le.fit_transform(dfle.mobmake)"
   ]
  },
  {
   "cell_type": "code",
   "execution_count": 561,
   "metadata": {},
   "outputs": [],
   "source": [
    "le=LabelEncoder()\n",
    "dfle=df\n",
    "dfle.claimtype=le.fit_transform(dfle.claimtype)"
   ]
  },
  {
   "cell_type": "code",
   "execution_count": 562,
   "metadata": {},
   "outputs": [],
   "source": [
    "le=LabelEncoder()\n",
    "dfle=df\n",
    "dfle.custpincodecategory=le.fit_transform(dfle.custpincodecategory)"
   ]
  },
  {
   "cell_type": "code",
   "execution_count": 563,
   "metadata": {
    "scrolled": false
   },
   "outputs": [
    {
     "data": {
      "text/html": [
       "<div>\n",
       "<style scoped>\n",
       "    .dataframe tbody tr th:only-of-type {\n",
       "        vertical-align: middle;\n",
       "    }\n",
       "\n",
       "    .dataframe tbody tr th {\n",
       "        vertical-align: top;\n",
       "    }\n",
       "\n",
       "    .dataframe thead th {\n",
       "        text-align: right;\n",
       "    }\n",
       "</style>\n",
       "<table border=\"1\" class=\"dataframe\">\n",
       "  <thead>\n",
       "    <tr style=\"text-align: right;\">\n",
       "      <th></th>\n",
       "      <th>srno</th>\n",
       "      <th>mobmake</th>\n",
       "      <th>hubid</th>\n",
       "      <th>hubpincode</th>\n",
       "      <th>pickuppartnerid</th>\n",
       "      <th>deliverypartnerid</th>\n",
       "      <th>insuranceCompanyId</th>\n",
       "      <th>custpincodecategory</th>\n",
       "      <th>claimtype</th>\n",
       "      <th>custpincode</th>\n",
       "      <th>memcreateddate</th>\n",
       "      <th>mobilepurchasedate</th>\n",
       "      <th>claimintdate</th>\n",
       "      <th>servicecntrid</th>\n",
       "      <th>pickupStartdate</th>\n",
       "      <th>tat_in_days</th>\n",
       "    </tr>\n",
       "  </thead>\n",
       "  <tbody>\n",
       "    <tr>\n",
       "      <th>0</th>\n",
       "      <td>2851218</td>\n",
       "      <td>12</td>\n",
       "      <td>7</td>\n",
       "      <td>500004</td>\n",
       "      <td>233</td>\n",
       "      <td>233</td>\n",
       "      <td>131</td>\n",
       "      <td>1</td>\n",
       "      <td>0</td>\n",
       "      <td>500001</td>\n",
       "      <td>2017-04-27</td>\n",
       "      <td>2016-12-02</td>\n",
       "      <td>2018-02-08</td>\n",
       "      <td>4403</td>\n",
       "      <td>2018-02-13</td>\n",
       "      <td>5</td>\n",
       "    </tr>\n",
       "    <tr>\n",
       "      <th>1</th>\n",
       "      <td>2838330</td>\n",
       "      <td>8</td>\n",
       "      <td>10</td>\n",
       "      <td>226010</td>\n",
       "      <td>233</td>\n",
       "      <td>233</td>\n",
       "      <td>131</td>\n",
       "      <td>1</td>\n",
       "      <td>0</td>\n",
       "      <td>226022</td>\n",
       "      <td>2017-03-06</td>\n",
       "      <td>2017-03-05</td>\n",
       "      <td>2018-02-04</td>\n",
       "      <td>4444</td>\n",
       "      <td>2018-02-08</td>\n",
       "      <td>12</td>\n",
       "    </tr>\n",
       "    <tr>\n",
       "      <th>2</th>\n",
       "      <td>2835781</td>\n",
       "      <td>8</td>\n",
       "      <td>2</td>\n",
       "      <td>110018</td>\n",
       "      <td>233</td>\n",
       "      <td>233</td>\n",
       "      <td>228</td>\n",
       "      <td>1</td>\n",
       "      <td>0</td>\n",
       "      <td>110018</td>\n",
       "      <td>2018-02-01</td>\n",
       "      <td>2018-01-27</td>\n",
       "      <td>2018-02-03</td>\n",
       "      <td>4388</td>\n",
       "      <td>2018-02-12</td>\n",
       "      <td>9</td>\n",
       "    </tr>\n",
       "    <tr>\n",
       "      <th>3</th>\n",
       "      <td>2838589</td>\n",
       "      <td>11</td>\n",
       "      <td>2</td>\n",
       "      <td>110018</td>\n",
       "      <td>233</td>\n",
       "      <td>233</td>\n",
       "      <td>228</td>\n",
       "      <td>2</td>\n",
       "      <td>0</td>\n",
       "      <td>124001</td>\n",
       "      <td>2018-01-17</td>\n",
       "      <td>2018-01-31</td>\n",
       "      <td>2018-02-04</td>\n",
       "      <td>4092</td>\n",
       "      <td>2018-02-14</td>\n",
       "      <td>9</td>\n",
       "    </tr>\n",
       "    <tr>\n",
       "      <th>4</th>\n",
       "      <td>2855214</td>\n",
       "      <td>12</td>\n",
       "      <td>21</td>\n",
       "      <td>110015</td>\n",
       "      <td>233</td>\n",
       "      <td>233</td>\n",
       "      <td>131</td>\n",
       "      <td>1</td>\n",
       "      <td>0</td>\n",
       "      <td>201301</td>\n",
       "      <td>2018-01-23</td>\n",
       "      <td>2018-01-20</td>\n",
       "      <td>2018-02-09</td>\n",
       "      <td>4580</td>\n",
       "      <td>2018-02-14</td>\n",
       "      <td>8</td>\n",
       "    </tr>\n",
       "  </tbody>\n",
       "</table>\n",
       "</div>"
      ],
      "text/plain": [
       "      srno  mobmake  hubid  hubpincode  pickuppartnerid  deliverypartnerid  \\\n",
       "0  2851218       12      7      500004              233                233   \n",
       "1  2838330        8     10      226010              233                233   \n",
       "2  2835781        8      2      110018              233                233   \n",
       "3  2838589       11      2      110018              233                233   \n",
       "4  2855214       12     21      110015              233                233   \n",
       "\n",
       "   insuranceCompanyId  custpincodecategory  claimtype  custpincode  \\\n",
       "0                 131                    1          0       500001   \n",
       "1                 131                    1          0       226022   \n",
       "2                 228                    1          0       110018   \n",
       "3                 228                    2          0       124001   \n",
       "4                 131                    1          0       201301   \n",
       "\n",
       "  memcreateddate mobilepurchasedate claimintdate  servicecntrid  \\\n",
       "0     2017-04-27         2016-12-02   2018-02-08           4403   \n",
       "1     2017-03-06         2017-03-05   2018-02-04           4444   \n",
       "2     2018-02-01         2018-01-27   2018-02-03           4388   \n",
       "3     2018-01-17         2018-01-31   2018-02-04           4092   \n",
       "4     2018-01-23         2018-01-20   2018-02-09           4580   \n",
       "\n",
       "  pickupStartdate  tat_in_days  \n",
       "0      2018-02-13            5  \n",
       "1      2018-02-08           12  \n",
       "2      2018-02-12            9  \n",
       "3      2018-02-14            9  \n",
       "4      2018-02-14            8  "
      ]
     },
     "execution_count": 563,
     "metadata": {},
     "output_type": "execute_result"
    }
   ],
   "source": [
    "df.head()"
   ]
  },
  {
   "cell_type": "markdown",
   "metadata": {},
   "source": [
    "### Converting categorical data(mobmake,claimtype,custpincodecategory) of test file into numbers."
   ]
  },
  {
   "cell_type": "code",
   "execution_count": 564,
   "metadata": {},
   "outputs": [],
   "source": [
    "le=LabelEncoder()\n",
    "dfle=dft\n",
    "dfle.mobmake=le.fit_transform(dfle.mobmake)\n",
    "\n",
    "le=LabelEncoder()\n",
    "dfle=dft\n",
    "dfle.claimtype=le.fit_transform(dfle.claimtype)\n",
    "\n",
    "le=LabelEncoder()\n",
    "dfle=dft\n",
    "dfle.custpincodecategory=le.fit_transform(dfle.custpincodecategory)"
   ]
  },
  {
   "cell_type": "code",
   "execution_count": 565,
   "metadata": {},
   "outputs": [
    {
     "data": {
      "text/html": [
       "<div>\n",
       "<style scoped>\n",
       "    .dataframe tbody tr th:only-of-type {\n",
       "        vertical-align: middle;\n",
       "    }\n",
       "\n",
       "    .dataframe tbody tr th {\n",
       "        vertical-align: top;\n",
       "    }\n",
       "\n",
       "    .dataframe thead th {\n",
       "        text-align: right;\n",
       "    }\n",
       "</style>\n",
       "<table border=\"1\" class=\"dataframe\">\n",
       "  <thead>\n",
       "    <tr style=\"text-align: right;\">\n",
       "      <th></th>\n",
       "      <th>srno</th>\n",
       "      <th>mobmake</th>\n",
       "      <th>hubid</th>\n",
       "      <th>hubpincode</th>\n",
       "      <th>pickuppartnerid</th>\n",
       "      <th>deliverypartnerid</th>\n",
       "      <th>insuranceCompanyId</th>\n",
       "      <th>custpincodecategory</th>\n",
       "      <th>claimtype</th>\n",
       "      <th>custpincode</th>\n",
       "      <th>memcreateddate</th>\n",
       "      <th>mobilepurchasedate</th>\n",
       "      <th>claimintdate</th>\n",
       "      <th>servicecntrid</th>\n",
       "      <th>pickupStartdate</th>\n",
       "      <th>pickupStartdate_Code</th>\n",
       "      <th>claimintdate_Code</th>\n",
       "      <th>tat_in_days</th>\n",
       "    </tr>\n",
       "  </thead>\n",
       "  <tbody>\n",
       "    <tr>\n",
       "      <th>2</th>\n",
       "      <td>2894489</td>\n",
       "      <td>7</td>\n",
       "      <td>3</td>\n",
       "      <td>560011</td>\n",
       "      <td>233</td>\n",
       "      <td>233</td>\n",
       "      <td>228</td>\n",
       "      <td>1</td>\n",
       "      <td>0</td>\n",
       "      <td>590014</td>\n",
       "      <td>2018-01-12</td>\n",
       "      <td>2018-01-11</td>\n",
       "      <td>2018-02-21</td>\n",
       "      <td>4460</td>\n",
       "      <td>2018-02-28</td>\n",
       "      <td>1519776000000000000</td>\n",
       "      <td>1519171200000000000</td>\n",
       "      <td>13</td>\n",
       "    </tr>\n",
       "    <tr>\n",
       "      <th>3</th>\n",
       "      <td>2876708</td>\n",
       "      <td>7</td>\n",
       "      <td>2</td>\n",
       "      <td>110018</td>\n",
       "      <td>233</td>\n",
       "      <td>233</td>\n",
       "      <td>228</td>\n",
       "      <td>0</td>\n",
       "      <td>0</td>\n",
       "      <td>250110</td>\n",
       "      <td>2017-08-07</td>\n",
       "      <td>2017-05-21</td>\n",
       "      <td>2018-02-16</td>\n",
       "      <td>4388</td>\n",
       "      <td>2018-02-26</td>\n",
       "      <td>1519603200000000000</td>\n",
       "      <td>1518739200000000000</td>\n",
       "      <td>13</td>\n",
       "    </tr>\n",
       "    <tr>\n",
       "      <th>4</th>\n",
       "      <td>2890283</td>\n",
       "      <td>10</td>\n",
       "      <td>22</td>\n",
       "      <td>400104</td>\n",
       "      <td>233</td>\n",
       "      <td>233</td>\n",
       "      <td>131</td>\n",
       "      <td>1</td>\n",
       "      <td>0</td>\n",
       "      <td>496001</td>\n",
       "      <td>2017-11-10</td>\n",
       "      <td>2017-09-22</td>\n",
       "      <td>2018-02-20</td>\n",
       "      <td>4581</td>\n",
       "      <td>2018-02-23</td>\n",
       "      <td>1519344000000000000</td>\n",
       "      <td>1519084800000000000</td>\n",
       "      <td>13</td>\n",
       "    </tr>\n",
       "    <tr>\n",
       "      <th>5</th>\n",
       "      <td>2897438</td>\n",
       "      <td>11</td>\n",
       "      <td>6</td>\n",
       "      <td>160059</td>\n",
       "      <td>233</td>\n",
       "      <td>233</td>\n",
       "      <td>131</td>\n",
       "      <td>0</td>\n",
       "      <td>0</td>\n",
       "      <td>160036</td>\n",
       "      <td>2017-12-12</td>\n",
       "      <td>2017-12-10</td>\n",
       "      <td>2018-02-22</td>\n",
       "      <td>4549</td>\n",
       "      <td>2018-02-27</td>\n",
       "      <td>1519689600000000000</td>\n",
       "      <td>1519257600000000000</td>\n",
       "      <td>11</td>\n",
       "    </tr>\n",
       "    <tr>\n",
       "      <th>8</th>\n",
       "      <td>2941799</td>\n",
       "      <td>10</td>\n",
       "      <td>21</td>\n",
       "      <td>110015</td>\n",
       "      <td>233</td>\n",
       "      <td>233</td>\n",
       "      <td>131</td>\n",
       "      <td>0</td>\n",
       "      <td>0</td>\n",
       "      <td>124001</td>\n",
       "      <td>2017-12-31</td>\n",
       "      <td>2017-06-26</td>\n",
       "      <td>2018-03-05</td>\n",
       "      <td>4580</td>\n",
       "      <td>2018-03-14</td>\n",
       "      <td>1520985600000000000</td>\n",
       "      <td>1520208000000000000</td>\n",
       "      <td>11</td>\n",
       "    </tr>\n",
       "  </tbody>\n",
       "</table>\n",
       "</div>"
      ],
      "text/plain": [
       "      srno  mobmake  hubid  hubpincode  pickuppartnerid  deliverypartnerid  \\\n",
       "2  2894489        7      3      560011              233                233   \n",
       "3  2876708        7      2      110018              233                233   \n",
       "4  2890283       10     22      400104              233                233   \n",
       "5  2897438       11      6      160059              233                233   \n",
       "8  2941799       10     21      110015              233                233   \n",
       "\n",
       "   insuranceCompanyId  custpincodecategory  claimtype  custpincode  \\\n",
       "2                 228                    1          0       590014   \n",
       "3                 228                    0          0       250110   \n",
       "4                 131                    1          0       496001   \n",
       "5                 131                    0          0       160036   \n",
       "8                 131                    0          0       124001   \n",
       "\n",
       "  memcreateddate mobilepurchasedate claimintdate  servicecntrid  \\\n",
       "2     2018-01-12         2018-01-11   2018-02-21           4460   \n",
       "3     2017-08-07         2017-05-21   2018-02-16           4388   \n",
       "4     2017-11-10         2017-09-22   2018-02-20           4581   \n",
       "5     2017-12-12         2017-12-10   2018-02-22           4549   \n",
       "8     2017-12-31         2017-06-26   2018-03-05           4580   \n",
       "\n",
       "  pickupStartdate  pickupStartdate_Code    claimintdate_Code  tat_in_days  \n",
       "2      2018-02-28   1519776000000000000  1519171200000000000           13  \n",
       "3      2018-02-26   1519603200000000000  1518739200000000000           13  \n",
       "4      2018-02-23   1519344000000000000  1519084800000000000           13  \n",
       "5      2018-02-27   1519689600000000000  1519257600000000000           11  \n",
       "8      2018-03-14   1520985600000000000  1520208000000000000           11  "
      ]
     },
     "execution_count": 565,
     "metadata": {},
     "output_type": "execute_result"
    }
   ],
   "source": [
    "dft.head()"
   ]
  },
  {
   "cell_type": "code",
   "execution_count": 566,
   "metadata": {},
   "outputs": [
    {
     "data": {
      "text/plain": [
       "array([1, 2, 3, 0, 4], dtype=int64)"
      ]
     },
     "execution_count": 566,
     "metadata": {},
     "output_type": "execute_result"
    }
   ],
   "source": [
    "a=df.custpincodecategory.unique()\n",
    "a"
   ]
  },
  {
   "cell_type": "markdown",
   "metadata": {},
   "source": [
    "### Checking for null values in both the files"
   ]
  },
  {
   "cell_type": "code",
   "execution_count": 567,
   "metadata": {},
   "outputs": [
    {
     "name": "stdout",
     "output_type": "stream",
     "text": [
      "1    4020\n",
      "2    1346\n",
      "3     554\n",
      "0     186\n",
      "4     144\n",
      "Name: custpincodecategory, dtype: int64\n",
      "\n",
      "0    475\n",
      "1    204\n",
      "2     44\n",
      "Name: custpincodecategory, dtype: int64\n"
     ]
    }
   ],
   "source": [
    "print(df.custpincodecategory.value_counts())\n",
    "print()\n",
    "print(dft.custpincodecategory.value_counts())"
   ]
  },
  {
   "cell_type": "code",
   "execution_count": 568,
   "metadata": {},
   "outputs": [],
   "source": [
    "train_null = df.query(\"custpincodecategory == 0\").index\n",
    "test_null = dft.query(\"custpincodecategory == 0\").index"
   ]
  },
  {
   "cell_type": "markdown",
   "metadata": {},
   "source": [
    "### Droping null values from both the files"
   ]
  },
  {
   "cell_type": "code",
   "execution_count": 569,
   "metadata": {},
   "outputs": [],
   "source": [
    "df.drop(train_null,inplace = True)\n",
    "dft.drop(test_null,inplace = True)"
   ]
  },
  {
   "cell_type": "code",
   "execution_count": 570,
   "metadata": {},
   "outputs": [
    {
     "data": {
      "text/plain": [
       "1    4020\n",
       "2    1346\n",
       "3     554\n",
       "4     144\n",
       "Name: custpincodecategory, dtype: int64"
      ]
     },
     "execution_count": 570,
     "metadata": {},
     "output_type": "execute_result"
    }
   ],
   "source": [
    "df.custpincodecategory.value_counts()"
   ]
  },
  {
   "cell_type": "code",
   "execution_count": 571,
   "metadata": {
    "scrolled": false
   },
   "outputs": [
    {
     "data": {
      "text/html": [
       "<div>\n",
       "<style scoped>\n",
       "    .dataframe tbody tr th:only-of-type {\n",
       "        vertical-align: middle;\n",
       "    }\n",
       "\n",
       "    .dataframe tbody tr th {\n",
       "        vertical-align: top;\n",
       "    }\n",
       "\n",
       "    .dataframe thead th {\n",
       "        text-align: right;\n",
       "    }\n",
       "</style>\n",
       "<table border=\"1\" class=\"dataframe\">\n",
       "  <thead>\n",
       "    <tr style=\"text-align: right;\">\n",
       "      <th></th>\n",
       "      <th>count</th>\n",
       "      <th>mean</th>\n",
       "      <th>std</th>\n",
       "      <th>min</th>\n",
       "      <th>25%</th>\n",
       "      <th>50%</th>\n",
       "      <th>75%</th>\n",
       "      <th>max</th>\n",
       "    </tr>\n",
       "  </thead>\n",
       "  <tbody>\n",
       "    <tr>\n",
       "      <th>srno</th>\n",
       "      <td>6064.0</td>\n",
       "      <td>2.946472e+06</td>\n",
       "      <td>77530.310085</td>\n",
       "      <td>2818359.0</td>\n",
       "      <td>2877245.0</td>\n",
       "      <td>2944960.5</td>\n",
       "      <td>3013050.75</td>\n",
       "      <td>3101035.0</td>\n",
       "    </tr>\n",
       "    <tr>\n",
       "      <th>mobmake</th>\n",
       "      <td>6064.0</td>\n",
       "      <td>1.219030e+01</td>\n",
       "      <td>5.922675</td>\n",
       "      <td>0.0</td>\n",
       "      <td>8.0</td>\n",
       "      <td>12.0</td>\n",
       "      <td>17.00</td>\n",
       "      <td>37.0</td>\n",
       "    </tr>\n",
       "    <tr>\n",
       "      <th>hubid</th>\n",
       "      <td>6064.0</td>\n",
       "      <td>1.164726e+01</td>\n",
       "      <td>9.161700</td>\n",
       "      <td>1.0</td>\n",
       "      <td>3.0</td>\n",
       "      <td>8.0</td>\n",
       "      <td>21.00</td>\n",
       "      <td>27.0</td>\n",
       "    </tr>\n",
       "    <tr>\n",
       "      <th>hubpincode</th>\n",
       "      <td>6064.0</td>\n",
       "      <td>3.415287e+05</td>\n",
       "      <td>213115.116740</td>\n",
       "      <td>110015.0</td>\n",
       "      <td>110018.0</td>\n",
       "      <td>400059.0</td>\n",
       "      <td>560011.00</td>\n",
       "      <td>800001.0</td>\n",
       "    </tr>\n",
       "    <tr>\n",
       "      <th>pickuppartnerid</th>\n",
       "      <td>6064.0</td>\n",
       "      <td>2.336268e+02</td>\n",
       "      <td>29.471301</td>\n",
       "      <td>0.0</td>\n",
       "      <td>233.0</td>\n",
       "      <td>233.0</td>\n",
       "      <td>233.00</td>\n",
       "      <td>308.0</td>\n",
       "    </tr>\n",
       "    <tr>\n",
       "      <th>deliverypartnerid</th>\n",
       "      <td>6064.0</td>\n",
       "      <td>2.319832e+02</td>\n",
       "      <td>21.454931</td>\n",
       "      <td>0.0</td>\n",
       "      <td>233.0</td>\n",
       "      <td>233.0</td>\n",
       "      <td>233.00</td>\n",
       "      <td>245.0</td>\n",
       "    </tr>\n",
       "    <tr>\n",
       "      <th>insuranceCompanyId</th>\n",
       "      <td>6064.0</td>\n",
       "      <td>1.551060e+02</td>\n",
       "      <td>41.922241</td>\n",
       "      <td>131.0</td>\n",
       "      <td>131.0</td>\n",
       "      <td>131.0</td>\n",
       "      <td>131.00</td>\n",
       "      <td>228.0</td>\n",
       "    </tr>\n",
       "    <tr>\n",
       "      <th>custpincodecategory</th>\n",
       "      <td>6064.0</td>\n",
       "      <td>1.475923e+00</td>\n",
       "      <td>0.758098</td>\n",
       "      <td>1.0</td>\n",
       "      <td>1.0</td>\n",
       "      <td>1.0</td>\n",
       "      <td>2.00</td>\n",
       "      <td>4.0</td>\n",
       "    </tr>\n",
       "    <tr>\n",
       "      <th>claimtype</th>\n",
       "      <td>6064.0</td>\n",
       "      <td>6.596306e-04</td>\n",
       "      <td>0.025677</td>\n",
       "      <td>0.0</td>\n",
       "      <td>0.0</td>\n",
       "      <td>0.0</td>\n",
       "      <td>0.00</td>\n",
       "      <td>1.0</td>\n",
       "    </tr>\n",
       "    <tr>\n",
       "      <th>custpincode</th>\n",
       "      <td>6064.0</td>\n",
       "      <td>3.666730e+05</td>\n",
       "      <td>209754.580730</td>\n",
       "      <td>110001.0</td>\n",
       "      <td>134109.0</td>\n",
       "      <td>395009.0</td>\n",
       "      <td>560018.00</td>\n",
       "      <td>855107.0</td>\n",
       "    </tr>\n",
       "    <tr>\n",
       "      <th>servicecntrid</th>\n",
       "      <td>6064.0</td>\n",
       "      <td>4.456731e+03</td>\n",
       "      <td>201.632269</td>\n",
       "      <td>4008.0</td>\n",
       "      <td>4398.0</td>\n",
       "      <td>4474.0</td>\n",
       "      <td>4580.00</td>\n",
       "      <td>5146.0</td>\n",
       "    </tr>\n",
       "    <tr>\n",
       "      <th>tat_in_days</th>\n",
       "      <td>6064.0</td>\n",
       "      <td>1.257602e+01</td>\n",
       "      <td>4.947839</td>\n",
       "      <td>2.0</td>\n",
       "      <td>9.0</td>\n",
       "      <td>12.0</td>\n",
       "      <td>15.00</td>\n",
       "      <td>57.0</td>\n",
       "    </tr>\n",
       "  </tbody>\n",
       "</table>\n",
       "</div>"
      ],
      "text/plain": [
       "                      count          mean            std        min  \\\n",
       "srno                 6064.0  2.946472e+06   77530.310085  2818359.0   \n",
       "mobmake              6064.0  1.219030e+01       5.922675        0.0   \n",
       "hubid                6064.0  1.164726e+01       9.161700        1.0   \n",
       "hubpincode           6064.0  3.415287e+05  213115.116740   110015.0   \n",
       "pickuppartnerid      6064.0  2.336268e+02      29.471301        0.0   \n",
       "deliverypartnerid    6064.0  2.319832e+02      21.454931        0.0   \n",
       "insuranceCompanyId   6064.0  1.551060e+02      41.922241      131.0   \n",
       "custpincodecategory  6064.0  1.475923e+00       0.758098        1.0   \n",
       "claimtype            6064.0  6.596306e-04       0.025677        0.0   \n",
       "custpincode          6064.0  3.666730e+05  209754.580730   110001.0   \n",
       "servicecntrid        6064.0  4.456731e+03     201.632269     4008.0   \n",
       "tat_in_days          6064.0  1.257602e+01       4.947839        2.0   \n",
       "\n",
       "                           25%        50%         75%        max  \n",
       "srno                 2877245.0  2944960.5  3013050.75  3101035.0  \n",
       "mobmake                    8.0       12.0       17.00       37.0  \n",
       "hubid                      3.0        8.0       21.00       27.0  \n",
       "hubpincode            110018.0   400059.0   560011.00   800001.0  \n",
       "pickuppartnerid          233.0      233.0      233.00      308.0  \n",
       "deliverypartnerid        233.0      233.0      233.00      245.0  \n",
       "insuranceCompanyId       131.0      131.0      131.00      228.0  \n",
       "custpincodecategory        1.0        1.0        2.00        4.0  \n",
       "claimtype                  0.0        0.0        0.00        1.0  \n",
       "custpincode           134109.0   395009.0   560018.00   855107.0  \n",
       "servicecntrid           4398.0     4474.0     4580.00     5146.0  \n",
       "tat_in_days                9.0       12.0       15.00       57.0  "
      ]
     },
     "execution_count": 571,
     "metadata": {},
     "output_type": "execute_result"
    }
   ],
   "source": [
    "df.describe().T"
   ]
  },
  {
   "cell_type": "code",
   "execution_count": 572,
   "metadata": {},
   "outputs": [
    {
     "data": {
      "text/html": [
       "<div>\n",
       "<style scoped>\n",
       "    .dataframe tbody tr th:only-of-type {\n",
       "        vertical-align: middle;\n",
       "    }\n",
       "\n",
       "    .dataframe tbody tr th {\n",
       "        vertical-align: top;\n",
       "    }\n",
       "\n",
       "    .dataframe thead th {\n",
       "        text-align: right;\n",
       "    }\n",
       "</style>\n",
       "<table border=\"1\" class=\"dataframe\">\n",
       "  <thead>\n",
       "    <tr style=\"text-align: right;\">\n",
       "      <th></th>\n",
       "      <th>srno</th>\n",
       "      <th>mobmake</th>\n",
       "      <th>hubid</th>\n",
       "      <th>hubpincode</th>\n",
       "      <th>pickuppartnerid</th>\n",
       "      <th>deliverypartnerid</th>\n",
       "      <th>insuranceCompanyId</th>\n",
       "      <th>custpincodecategory</th>\n",
       "      <th>claimtype</th>\n",
       "      <th>custpincode</th>\n",
       "      <th>memcreateddate</th>\n",
       "      <th>mobilepurchasedate</th>\n",
       "      <th>claimintdate</th>\n",
       "      <th>servicecntrid</th>\n",
       "      <th>pickupStartdate</th>\n",
       "      <th>tat_in_days</th>\n",
       "    </tr>\n",
       "  </thead>\n",
       "  <tbody>\n",
       "    <tr>\n",
       "      <th>0</th>\n",
       "      <td>2851218</td>\n",
       "      <td>12</td>\n",
       "      <td>7</td>\n",
       "      <td>500004</td>\n",
       "      <td>233</td>\n",
       "      <td>233</td>\n",
       "      <td>131</td>\n",
       "      <td>1</td>\n",
       "      <td>0</td>\n",
       "      <td>500001</td>\n",
       "      <td>2017-04-27</td>\n",
       "      <td>2016-12-02</td>\n",
       "      <td>2018-02-08</td>\n",
       "      <td>4403</td>\n",
       "      <td>2018-02-13</td>\n",
       "      <td>5</td>\n",
       "    </tr>\n",
       "    <tr>\n",
       "      <th>1</th>\n",
       "      <td>2838330</td>\n",
       "      <td>8</td>\n",
       "      <td>10</td>\n",
       "      <td>226010</td>\n",
       "      <td>233</td>\n",
       "      <td>233</td>\n",
       "      <td>131</td>\n",
       "      <td>1</td>\n",
       "      <td>0</td>\n",
       "      <td>226022</td>\n",
       "      <td>2017-03-06</td>\n",
       "      <td>2017-03-05</td>\n",
       "      <td>2018-02-04</td>\n",
       "      <td>4444</td>\n",
       "      <td>2018-02-08</td>\n",
       "      <td>12</td>\n",
       "    </tr>\n",
       "    <tr>\n",
       "      <th>2</th>\n",
       "      <td>2835781</td>\n",
       "      <td>8</td>\n",
       "      <td>2</td>\n",
       "      <td>110018</td>\n",
       "      <td>233</td>\n",
       "      <td>233</td>\n",
       "      <td>228</td>\n",
       "      <td>1</td>\n",
       "      <td>0</td>\n",
       "      <td>110018</td>\n",
       "      <td>2018-02-01</td>\n",
       "      <td>2018-01-27</td>\n",
       "      <td>2018-02-03</td>\n",
       "      <td>4388</td>\n",
       "      <td>2018-02-12</td>\n",
       "      <td>9</td>\n",
       "    </tr>\n",
       "  </tbody>\n",
       "</table>\n",
       "</div>"
      ],
      "text/plain": [
       "      srno  mobmake  hubid  hubpincode  pickuppartnerid  deliverypartnerid  \\\n",
       "0  2851218       12      7      500004              233                233   \n",
       "1  2838330        8     10      226010              233                233   \n",
       "2  2835781        8      2      110018              233                233   \n",
       "\n",
       "   insuranceCompanyId  custpincodecategory  claimtype  custpincode  \\\n",
       "0                 131                    1          0       500001   \n",
       "1                 131                    1          0       226022   \n",
       "2                 228                    1          0       110018   \n",
       "\n",
       "  memcreateddate mobilepurchasedate claimintdate  servicecntrid  \\\n",
       "0     2017-04-27         2016-12-02   2018-02-08           4403   \n",
       "1     2017-03-06         2017-03-05   2018-02-04           4444   \n",
       "2     2018-02-01         2018-01-27   2018-02-03           4388   \n",
       "\n",
       "  pickupStartdate  tat_in_days  \n",
       "0      2018-02-13            5  \n",
       "1      2018-02-08           12  \n",
       "2      2018-02-12            9  "
      ]
     },
     "execution_count": 572,
     "metadata": {},
     "output_type": "execute_result"
    }
   ],
   "source": [
    "df.head(3)"
   ]
  },
  {
   "cell_type": "code",
   "execution_count": 573,
   "metadata": {},
   "outputs": [
    {
     "data": {
      "text/plain": [
       "array([1, 2, 3, 4], dtype=int64)"
      ]
     },
     "execution_count": 573,
     "metadata": {},
     "output_type": "execute_result"
    }
   ],
   "source": [
    "a=df.custpincodecategory.unique()\n",
    "a"
   ]
  },
  {
   "cell_type": "code",
   "execution_count": 574,
   "metadata": {},
   "outputs": [
    {
     "data": {
      "text/plain": [
       "srno                    int64\n",
       "mobmake                 int32\n",
       "hubid                   int64\n",
       "hubpincode              int64\n",
       "pickuppartnerid         int64\n",
       "deliverypartnerid       int64\n",
       "insuranceCompanyId      int64\n",
       "custpincodecategory     int32\n",
       "claimtype               int32\n",
       "custpincode             int64\n",
       "memcreateddate         object\n",
       "mobilepurchasedate     object\n",
       "claimintdate           object\n",
       "servicecntrid           int64\n",
       "pickupStartdate        object\n",
       "tat_in_days             int64\n",
       "dtype: object"
      ]
     },
     "execution_count": 574,
     "metadata": {},
     "output_type": "execute_result"
    }
   ],
   "source": [
    "df.dtypes"
   ]
  },
  {
   "cell_type": "markdown",
   "metadata": {},
   "source": [
    "### Changing the datatype of Dates Column(memcreateddate,mobilepurchasedate,claimdate,pickupStartdate) "
   ]
  },
  {
   "cell_type": "code",
   "execution_count": 575,
   "metadata": {},
   "outputs": [
    {
     "name": "stdout",
     "output_type": "stream",
     "text": [
      "srno                            int64\n",
      "mobmake                         int32\n",
      "hubid                           int64\n",
      "hubpincode                      int64\n",
      "pickuppartnerid                 int64\n",
      "deliverypartnerid               int64\n",
      "insuranceCompanyId              int64\n",
      "custpincodecategory             int32\n",
      "claimtype                       int32\n",
      "custpincode                     int64\n",
      "memcreateddate         datetime64[ns]\n",
      "mobilepurchasedate     datetime64[ns]\n",
      "claimintdate           datetime64[ns]\n",
      "servicecntrid                   int64\n",
      "pickupStartdate        datetime64[ns]\n",
      "tat_in_days                     int64\n",
      "dtype: object\n",
      "\n",
      "srno                             int64\n",
      "mobmake                          int32\n",
      "hubid                            int64\n",
      "hubpincode                       int64\n",
      "pickuppartnerid                  int64\n",
      "deliverypartnerid                int64\n",
      "insuranceCompanyId               int64\n",
      "custpincodecategory              int32\n",
      "claimtype                        int32\n",
      "custpincode                      int64\n",
      "memcreateddate          datetime64[ns]\n",
      "mobilepurchasedate      datetime64[ns]\n",
      "claimintdate            datetime64[ns]\n",
      "servicecntrid                    int64\n",
      "pickupStartdate         datetime64[ns]\n",
      "pickupStartdate_Code             int64\n",
      "claimintdate_Code                int64\n",
      "tat_in_days                      int64\n",
      "dtype: object\n"
     ]
    }
   ],
   "source": [
    "df['memcreateddate']=pd.to_datetime(df['memcreateddate'])\n",
    "df['mobilepurchasedate']=pd.to_datetime(df['mobilepurchasedate'])\n",
    "df['claimintdate']=pd.to_datetime(df['claimintdate'])\n",
    "df['pickupStartdate']=pd.to_datetime(df['pickupStartdate'])\n",
    "\n",
    "dft['memcreateddate']=pd.to_datetime(dft['memcreateddate'])\n",
    "dft['mobilepurchasedate']=pd.to_datetime(dft['mobilepurchasedate'])\n",
    "dft['claimintdate']=pd.to_datetime(dft['claimintdate'])\n",
    "dft['pickupStartdate']=pd.to_datetime(dft['pickupStartdate'])\n",
    "\n",
    "print(df.dtypes)\n",
    "print()\n",
    "print(dft.dtypes)"
   ]
  },
  {
   "cell_type": "code",
   "execution_count": 284,
   "metadata": {},
   "outputs": [],
   "source": [
    "# plt.scatter(df.mobmake,df.claimtype,df.tat_in_days)"
   ]
  },
  {
   "cell_type": "markdown",
   "metadata": {},
   "source": [
    "### Making two more columns for in both the files"
   ]
  },
  {
   "cell_type": "code",
   "execution_count": 576,
   "metadata": {},
   "outputs": [],
   "source": [
    "df['pickupStartdate_Code']=pd.to_numeric(df['pickupStartdate'])\n",
    "df['claimintdate_Code'] = pd.to_numeric(df['claimintdate'])\n",
    "\n",
    "dft['pickupStartdate_Code']=pd.to_numeric(dft['pickupStartdate'])\n",
    "dft['claimintdate_Code'] = pd.to_numeric(dft['claimintdate'])\n"
   ]
  },
  {
   "cell_type": "code",
   "execution_count": 634,
   "metadata": {},
   "outputs": [
    {
     "data": {
      "text/html": [
       "<div>\n",
       "<style scoped>\n",
       "    .dataframe tbody tr th:only-of-type {\n",
       "        vertical-align: middle;\n",
       "    }\n",
       "\n",
       "    .dataframe tbody tr th {\n",
       "        vertical-align: top;\n",
       "    }\n",
       "\n",
       "    .dataframe thead th {\n",
       "        text-align: right;\n",
       "    }\n",
       "</style>\n",
       "<table border=\"1\" class=\"dataframe\">\n",
       "  <thead>\n",
       "    <tr style=\"text-align: right;\">\n",
       "      <th></th>\n",
       "      <th>srno</th>\n",
       "      <th>mobmake</th>\n",
       "      <th>hubid</th>\n",
       "      <th>hubpincode</th>\n",
       "      <th>pickuppartnerid</th>\n",
       "      <th>deliverypartnerid</th>\n",
       "      <th>insuranceCompanyId</th>\n",
       "      <th>custpincodecategory</th>\n",
       "      <th>claimtype</th>\n",
       "      <th>custpincode</th>\n",
       "      <th>memcreateddate</th>\n",
       "      <th>mobilepurchasedate</th>\n",
       "      <th>claimintdate</th>\n",
       "      <th>servicecntrid</th>\n",
       "      <th>pickupStartdate</th>\n",
       "      <th>pickupStartdate_Code</th>\n",
       "      <th>claimintdate_Code</th>\n",
       "      <th>tat_in_days</th>\n",
       "    </tr>\n",
       "  </thead>\n",
       "  <tbody>\n",
       "    <tr>\n",
       "      <th>2</th>\n",
       "      <td>2894489</td>\n",
       "      <td>7</td>\n",
       "      <td>3</td>\n",
       "      <td>560011</td>\n",
       "      <td>233</td>\n",
       "      <td>233</td>\n",
       "      <td>228</td>\n",
       "      <td>1</td>\n",
       "      <td>0</td>\n",
       "      <td>590014</td>\n",
       "      <td>2018-01-12</td>\n",
       "      <td>2018-01-11</td>\n",
       "      <td>2018-02-21</td>\n",
       "      <td>4460</td>\n",
       "      <td>2018-02-28</td>\n",
       "      <td>1519776000000000000</td>\n",
       "      <td>1519171200000000000</td>\n",
       "      <td>13</td>\n",
       "    </tr>\n",
       "    <tr>\n",
       "      <th>4</th>\n",
       "      <td>2890283</td>\n",
       "      <td>10</td>\n",
       "      <td>22</td>\n",
       "      <td>400104</td>\n",
       "      <td>233</td>\n",
       "      <td>233</td>\n",
       "      <td>131</td>\n",
       "      <td>1</td>\n",
       "      <td>0</td>\n",
       "      <td>496001</td>\n",
       "      <td>2017-11-10</td>\n",
       "      <td>2017-09-22</td>\n",
       "      <td>2018-02-20</td>\n",
       "      <td>4581</td>\n",
       "      <td>2018-02-23</td>\n",
       "      <td>1519344000000000000</td>\n",
       "      <td>1519084800000000000</td>\n",
       "      <td>13</td>\n",
       "    </tr>\n",
       "    <tr>\n",
       "      <th>31</th>\n",
       "      <td>2839241</td>\n",
       "      <td>4</td>\n",
       "      <td>17</td>\n",
       "      <td>800001</td>\n",
       "      <td>233</td>\n",
       "      <td>233</td>\n",
       "      <td>131</td>\n",
       "      <td>1</td>\n",
       "      <td>0</td>\n",
       "      <td>824124</td>\n",
       "      <td>2017-02-20</td>\n",
       "      <td>2017-02-17</td>\n",
       "      <td>2018-02-05</td>\n",
       "      <td>4538</td>\n",
       "      <td>2018-02-08</td>\n",
       "      <td>1518048000000000000</td>\n",
       "      <td>1517788800000000000</td>\n",
       "      <td>13</td>\n",
       "    </tr>\n",
       "    <tr>\n",
       "      <th>36</th>\n",
       "      <td>2972765</td>\n",
       "      <td>10</td>\n",
       "      <td>22</td>\n",
       "      <td>400104</td>\n",
       "      <td>0</td>\n",
       "      <td>233</td>\n",
       "      <td>131</td>\n",
       "      <td>2</td>\n",
       "      <td>0</td>\n",
       "      <td>382022</td>\n",
       "      <td>2017-08-18</td>\n",
       "      <td>2017-08-17</td>\n",
       "      <td>2018-03-12</td>\n",
       "      <td>4581</td>\n",
       "      <td>2018-03-16</td>\n",
       "      <td>1521158400000000000</td>\n",
       "      <td>1520812800000000000</td>\n",
       "      <td>13</td>\n",
       "    </tr>\n",
       "    <tr>\n",
       "      <th>41</th>\n",
       "      <td>3014945</td>\n",
       "      <td>10</td>\n",
       "      <td>26</td>\n",
       "      <td>560066</td>\n",
       "      <td>201</td>\n",
       "      <td>233</td>\n",
       "      <td>131</td>\n",
       "      <td>2</td>\n",
       "      <td>0</td>\n",
       "      <td>630606</td>\n",
       "      <td>2017-12-28</td>\n",
       "      <td>2017-08-01</td>\n",
       "      <td>2018-03-24</td>\n",
       "      <td>5001</td>\n",
       "      <td>2018-03-27</td>\n",
       "      <td>1522108800000000000</td>\n",
       "      <td>1521849600000000000</td>\n",
       "      <td>12</td>\n",
       "    </tr>\n",
       "  </tbody>\n",
       "</table>\n",
       "</div>"
      ],
      "text/plain": [
       "       srno  mobmake  hubid  hubpincode  pickuppartnerid  deliverypartnerid  \\\n",
       "2   2894489        7      3      560011              233                233   \n",
       "4   2890283       10     22      400104              233                233   \n",
       "31  2839241        4     17      800001              233                233   \n",
       "36  2972765       10     22      400104                0                233   \n",
       "41  3014945       10     26      560066              201                233   \n",
       "\n",
       "    insuranceCompanyId  custpincodecategory  claimtype  custpincode  \\\n",
       "2                  228                    1          0       590014   \n",
       "4                  131                    1          0       496001   \n",
       "31                 131                    1          0       824124   \n",
       "36                 131                    2          0       382022   \n",
       "41                 131                    2          0       630606   \n",
       "\n",
       "   memcreateddate mobilepurchasedate claimintdate  servicecntrid  \\\n",
       "2      2018-01-12         2018-01-11   2018-02-21           4460   \n",
       "4      2017-11-10         2017-09-22   2018-02-20           4581   \n",
       "31     2017-02-20         2017-02-17   2018-02-05           4538   \n",
       "36     2017-08-18         2017-08-17   2018-03-12           4581   \n",
       "41     2017-12-28         2017-08-01   2018-03-24           5001   \n",
       "\n",
       "   pickupStartdate  pickupStartdate_Code    claimintdate_Code  tat_in_days  \n",
       "2       2018-02-28   1519776000000000000  1519171200000000000           13  \n",
       "4       2018-02-23   1519344000000000000  1519084800000000000           13  \n",
       "31      2018-02-08   1518048000000000000  1517788800000000000           13  \n",
       "36      2018-03-16   1521158400000000000  1520812800000000000           13  \n",
       "41      2018-03-27   1522108800000000000  1521849600000000000           12  "
      ]
     },
     "execution_count": 634,
     "metadata": {},
     "output_type": "execute_result"
    }
   ],
   "source": [
    "\n",
    "dft.head()"
   ]
  },
  {
   "cell_type": "markdown",
   "metadata": {},
   "source": [
    "### Feature Selection(Selecting all features)"
   ]
  },
  {
   "cell_type": "code",
   "execution_count": 635,
   "metadata": {},
   "outputs": [],
   "source": [
    "feature_cols=['srno','hubid','hubpincode','pickuppartnerid','deliverypartnerid','insuranceCompanyId','custpincode','servicecntrid']"
   ]
  },
  {
   "cell_type": "code",
   "execution_count": 636,
   "metadata": {},
   "outputs": [
    {
     "data": {
      "text/plain": [
       "(6064, 8)"
      ]
     },
     "execution_count": 636,
     "metadata": {},
     "output_type": "execute_result"
    }
   ],
   "source": [
    "X=df[feature_cols]\n",
    "X.shape"
   ]
  },
  {
   "cell_type": "code",
   "execution_count": 637,
   "metadata": {},
   "outputs": [],
   "source": [
    "y=df['tat_in_days']"
   ]
  },
  {
   "cell_type": "code",
   "execution_count": 638,
   "metadata": {},
   "outputs": [],
   "source": [
    "X_train,X_test,y_train,y_test=train_test_split(X,y,test_size=0.3,random_state=1)"
   ]
  },
  {
   "cell_type": "code",
   "execution_count": 639,
   "metadata": {},
   "outputs": [
    {
     "name": "stdout",
     "output_type": "stream",
     "text": [
      "(4244, 8)\n",
      "(1820, 8)\n",
      "(1820,)\n",
      "(4244,)\n"
     ]
    }
   ],
   "source": [
    "print(X_train.shape)\n",
    "print(X_test.shape)\n",
    "print(y_test.shape)\n",
    "print(y_train.shape)"
   ]
  },
  {
   "cell_type": "code",
   "execution_count": 640,
   "metadata": {},
   "outputs": [
    {
     "data": {
      "text/plain": [
       "LinearRegression(copy_X=True, fit_intercept=True, n_jobs=None, normalize=False)"
      ]
     },
     "execution_count": 640,
     "metadata": {},
     "output_type": "execute_result"
    }
   ],
   "source": [
    "reg = LinearRegression()\n",
    "reg.fit(X_train,y_train)"
   ]
  },
  {
   "cell_type": "code",
   "execution_count": 641,
   "metadata": {},
   "outputs": [
    {
     "name": "stdout",
     "output_type": "stream",
     "text": [
      "66.23608161396747\n",
      "[-1.10752976e-05 -2.01343454e-02 -7.83529588e-06 -4.05431456e-03\n",
      " -1.31868574e-02 -5.23809696e-03  9.18400864e-06 -3.72821780e-03]\n"
     ]
    }
   ],
   "source": [
    "print(reg.intercept_)\n",
    "print(reg.coef_)"
   ]
  },
  {
   "cell_type": "code",
   "execution_count": 642,
   "metadata": {
    "scrolled": true
   },
   "outputs": [
    {
     "name": "stdout",
     "output_type": "stream",
     "text": [
      "3308    23\n",
      "310      7\n",
      "2503     9\n",
      "886     18\n",
      "3133    10\n",
      "2874    11\n",
      "243     13\n",
      "4333    13\n",
      "5661    10\n",
      "4197     9\n",
      "1196     7\n",
      "4163    17\n",
      "294     20\n",
      "1575    12\n",
      "4712    11\n",
      "4732     9\n",
      "1446     9\n",
      "3950     6\n",
      "920     11\n",
      "80      19\n",
      "2515    11\n",
      "4436    13\n",
      "323     14\n",
      "2673     8\n",
      "2056    19\n",
      "3892    16\n",
      "6110    23\n",
      "5616    14\n",
      "3414     9\n",
      "5384     7\n",
      "        ..\n",
      "6199    12\n",
      "1398    10\n",
      "4501    17\n",
      "5371    13\n",
      "912      9\n",
      "282     14\n",
      "6187    15\n",
      "1770     7\n",
      "3873    12\n",
      "3087     6\n",
      "5934    16\n",
      "2617     9\n",
      "1451    22\n",
      "100     21\n",
      "4257     9\n",
      "4410    14\n",
      "5241    12\n",
      "346     11\n",
      "2645     9\n",
      "1151    13\n",
      "4843    12\n",
      "40       7\n",
      "5669     7\n",
      "6049    17\n",
      "3394    14\n",
      "3487    16\n",
      "2667    11\n",
      "4234     7\n",
      "2729    12\n",
      "940     11\n",
      "Name: tat_in_days, Length: 1820, dtype: int64 [12.59629558 11.242533   13.86310292 ... 10.8831389  13.23394883\n",
      " 11.72778284]\n"
     ]
    }
   ],
   "source": [
    "y_pred=reg.predict(X_test)\n",
    "print(y_test,y_pred)"
   ]
  },
  {
   "cell_type": "code",
   "execution_count": 643,
   "metadata": {},
   "outputs": [
    {
     "data": {
      "text/plain": [
       "4.688887685949893"
      ]
     },
     "execution_count": 643,
     "metadata": {},
     "output_type": "execute_result"
    }
   ],
   "source": [
    "RMSE=np.sqrt(metrics.mean_squared_error(y_test,y_pred))\n",
    "RMSE"
   ]
  },
  {
   "cell_type": "code",
   "execution_count": 644,
   "metadata": {},
   "outputs": [
    {
     "data": {
      "text/plain": [
       "0.08292316869586791"
      ]
     },
     "execution_count": 644,
     "metadata": {},
     "output_type": "execute_result"
    }
   ],
   "source": [
    "reg.score(X,y)"
   ]
  },
  {
   "cell_type": "markdown",
   "metadata": {},
   "source": [
    "#### RMSE Score is 4.688887685949893"
   ]
  },
  {
   "cell_type": "markdown",
   "metadata": {},
   "source": [
    "### 1. Changing selection criteria(leaving some columns)"
   ]
  },
  {
   "cell_type": "code",
   "execution_count": 645,
   "metadata": {},
   "outputs": [],
   "source": [
    "feature_cols=['mobmake','hubpincode','pickuppartnerid','deliverypartnerid','insuranceCompanyId','custpincodecategory','claimtype','custpincode','servicecntrid','pickupStartdate_Code','claimintdate_Code']"
   ]
  },
  {
   "cell_type": "code",
   "execution_count": 648,
   "metadata": {},
   "outputs": [
    {
     "data": {
      "text/plain": [
       "(6064, 11)"
      ]
     },
     "execution_count": 648,
     "metadata": {},
     "output_type": "execute_result"
    }
   ],
   "source": [
    "X=df[feature_cols]\n",
    "X.shape"
   ]
  },
  {
   "cell_type": "code",
   "execution_count": 649,
   "metadata": {},
   "outputs": [],
   "source": [
    "y=df['tat_in_days']"
   ]
  },
  {
   "cell_type": "code",
   "execution_count": 650,
   "metadata": {},
   "outputs": [],
   "source": [
    "X_train, X_test, y_train, y_test = train_test_split(X,y,random_state=1)"
   ]
  },
  {
   "cell_type": "code",
   "execution_count": 651,
   "metadata": {},
   "outputs": [
    {
     "name": "stdout",
     "output_type": "stream",
     "text": [
      "(4548, 11)\n",
      "(1516, 11)\n",
      "(4548,)\n",
      "(1516,)\n"
     ]
    }
   ],
   "source": [
    "print(X_train.shape)\n",
    "print(X_test.shape)\n",
    "print(y_train.shape)\n",
    "print(y_test.shape)\n"
   ]
  },
  {
   "cell_type": "markdown",
   "metadata": {},
   "source": [
    "### Linear Regression"
   ]
  },
  {
   "cell_type": "code",
   "execution_count": 652,
   "metadata": {},
   "outputs": [],
   "source": [
    "linreg = LinearRegression()\n",
    "linreg.fit(X_train,y_train)\n",
    "y_pred = linreg.predict(X_test)\n",
    "y_pred = y_pred.astype(int)"
   ]
  },
  {
   "cell_type": "code",
   "execution_count": 303,
   "metadata": {},
   "outputs": [],
   "source": [
    "# y_pred"
   ]
  },
  {
   "cell_type": "code",
   "execution_count": 653,
   "metadata": {},
   "outputs": [
    {
     "data": {
      "text/plain": [
       "4.462094826140186"
      ]
     },
     "execution_count": 653,
     "metadata": {},
     "output_type": "execute_result"
    }
   ],
   "source": [
    "lr=np.sqrt(metrics.mean_squared_error(y_test,y_pred))\n",
    "lr"
   ]
  },
  {
   "cell_type": "markdown",
   "metadata": {},
   "source": [
    "### Lasso Regression"
   ]
  },
  {
   "cell_type": "code",
   "execution_count": 654,
   "metadata": {},
   "outputs": [],
   "source": [
    "lasso = Lasso()\n",
    "lasso.fit(X_train,y_train)\n",
    "y_pred = lasso.predict(X_test)\n",
    "y_pred = y_pred.astype(int)"
   ]
  },
  {
   "cell_type": "code",
   "execution_count": 655,
   "metadata": {},
   "outputs": [
    {
     "data": {
      "text/plain": [
       "4.632824266688283"
      ]
     },
     "execution_count": 655,
     "metadata": {},
     "output_type": "execute_result"
    }
   ],
   "source": [
    "lar=np.sqrt(metrics.mean_squared_error(y_test,y_pred))\n",
    "lar"
   ]
  },
  {
   "cell_type": "markdown",
   "metadata": {},
   "source": [
    "### Ridge Regression"
   ]
  },
  {
   "cell_type": "code",
   "execution_count": 656,
   "metadata": {},
   "outputs": [
    {
     "name": "stderr",
     "output_type": "stream",
     "text": [
      "c:\\users\\gunjan\\appdata\\local\\programs\\python\\python37-32\\lib\\site-packages\\sklearn\\linear_model\\ridge.py:147: LinAlgWarning: Ill-conditioned matrix (rcond=1.34261e-34): result may not be accurate.\n",
      "  overwrite_a=True).T\n"
     ]
    }
   ],
   "source": [
    "ridge1 = Ridge()\n",
    "ridge1.fit(X_train,y_train)\n",
    "y_pred = ridge1.predict(X_test)\n",
    "y_pred = y_pred.astype(int)"
   ]
  },
  {
   "cell_type": "code",
   "execution_count": 657,
   "metadata": {},
   "outputs": [
    {
     "data": {
      "text/plain": [
       "4.450771478588562"
      ]
     },
     "execution_count": 657,
     "metadata": {},
     "output_type": "execute_result"
    }
   ],
   "source": [
    "rr=np.sqrt(metrics.mean_squared_error(y_test,y_pred))\n",
    "rr"
   ]
  },
  {
   "cell_type": "markdown",
   "metadata": {},
   "source": [
    "### Model Evaluation"
   ]
  },
  {
   "cell_type": "code",
   "execution_count": 658,
   "metadata": {},
   "outputs": [
    {
     "data": {
      "text/html": [
       "<div>\n",
       "<style scoped>\n",
       "    .dataframe tbody tr th:only-of-type {\n",
       "        vertical-align: middle;\n",
       "    }\n",
       "\n",
       "    .dataframe tbody tr th {\n",
       "        vertical-align: top;\n",
       "    }\n",
       "\n",
       "    .dataframe thead th {\n",
       "        text-align: right;\n",
       "    }\n",
       "</style>\n",
       "<table border=\"1\" class=\"dataframe\">\n",
       "  <thead>\n",
       "    <tr style=\"text-align: right;\">\n",
       "      <th></th>\n",
       "      <th>Model</th>\n",
       "      <th>RMSE Score</th>\n",
       "    </tr>\n",
       "  </thead>\n",
       "  <tbody>\n",
       "    <tr>\n",
       "      <th>2</th>\n",
       "      <td>Ridge Regression</td>\n",
       "      <td>4.450771</td>\n",
       "    </tr>\n",
       "    <tr>\n",
       "      <th>0</th>\n",
       "      <td>Linear Regression</td>\n",
       "      <td>4.462095</td>\n",
       "    </tr>\n",
       "    <tr>\n",
       "      <th>1</th>\n",
       "      <td>Lasso Regression</td>\n",
       "      <td>4.632824</td>\n",
       "    </tr>\n",
       "  </tbody>\n",
       "</table>\n",
       "</div>"
      ],
      "text/plain": [
       "               Model  RMSE Score\n",
       "2   Ridge Regression    4.450771\n",
       "0  Linear Regression    4.462095\n",
       "1   Lasso Regression    4.632824"
      ]
     },
     "execution_count": 658,
     "metadata": {},
     "output_type": "execute_result"
    }
   ],
   "source": [
    "models = pd.DataFrame({\n",
    "    'Model': [ 'Linear Regression','Lasso Regression','Ridge Regression'],\n",
    "    'RMSE Score': [lr,lar,rr]})\n",
    "models.sort_values(by='RMSE Score', ascending=True)"
   ]
  },
  {
   "cell_type": "code",
   "execution_count": null,
   "metadata": {},
   "outputs": [],
   "source": []
  },
  {
   "cell_type": "markdown",
   "metadata": {},
   "source": [
    "#### RMSE Score through Ridge Regression=4.450771"
   ]
  },
  {
   "cell_type": "code",
   "execution_count": 601,
   "metadata": {},
   "outputs": [
    {
     "data": {
      "text/html": [
       "<div>\n",
       "<style scoped>\n",
       "    .dataframe tbody tr th:only-of-type {\n",
       "        vertical-align: middle;\n",
       "    }\n",
       "\n",
       "    .dataframe tbody tr th {\n",
       "        vertical-align: top;\n",
       "    }\n",
       "\n",
       "    .dataframe thead th {\n",
       "        text-align: right;\n",
       "    }\n",
       "</style>\n",
       "<table border=\"1\" class=\"dataframe\">\n",
       "  <thead>\n",
       "    <tr style=\"text-align: right;\">\n",
       "      <th></th>\n",
       "      <th>srno</th>\n",
       "      <th>mobmake</th>\n",
       "      <th>hubid</th>\n",
       "      <th>hubpincode</th>\n",
       "      <th>pickuppartnerid</th>\n",
       "      <th>deliverypartnerid</th>\n",
       "      <th>insuranceCompanyId</th>\n",
       "      <th>custpincodecategory</th>\n",
       "      <th>claimtype</th>\n",
       "      <th>custpincode</th>\n",
       "      <th>memcreateddate</th>\n",
       "      <th>mobilepurchasedate</th>\n",
       "      <th>claimintdate</th>\n",
       "      <th>servicecntrid</th>\n",
       "      <th>pickupStartdate</th>\n",
       "      <th>tat_in_days</th>\n",
       "      <th>pickupStartdate_Code</th>\n",
       "      <th>claimintdate_Code</th>\n",
       "    </tr>\n",
       "  </thead>\n",
       "  <tbody>\n",
       "    <tr>\n",
       "      <th>0</th>\n",
       "      <td>2851218</td>\n",
       "      <td>12</td>\n",
       "      <td>7</td>\n",
       "      <td>500004</td>\n",
       "      <td>233</td>\n",
       "      <td>233</td>\n",
       "      <td>131</td>\n",
       "      <td>1</td>\n",
       "      <td>0</td>\n",
       "      <td>500001</td>\n",
       "      <td>2017-04-27</td>\n",
       "      <td>2016-12-02</td>\n",
       "      <td>2018-02-08</td>\n",
       "      <td>4403</td>\n",
       "      <td>2018-02-13</td>\n",
       "      <td>5</td>\n",
       "      <td>1518480000000000000</td>\n",
       "      <td>1518048000000000000</td>\n",
       "    </tr>\n",
       "    <tr>\n",
       "      <th>1</th>\n",
       "      <td>2838330</td>\n",
       "      <td>8</td>\n",
       "      <td>10</td>\n",
       "      <td>226010</td>\n",
       "      <td>233</td>\n",
       "      <td>233</td>\n",
       "      <td>131</td>\n",
       "      <td>1</td>\n",
       "      <td>0</td>\n",
       "      <td>226022</td>\n",
       "      <td>2017-03-06</td>\n",
       "      <td>2017-03-05</td>\n",
       "      <td>2018-02-04</td>\n",
       "      <td>4444</td>\n",
       "      <td>2018-02-08</td>\n",
       "      <td>12</td>\n",
       "      <td>1518048000000000000</td>\n",
       "      <td>1517702400000000000</td>\n",
       "    </tr>\n",
       "    <tr>\n",
       "      <th>2</th>\n",
       "      <td>2835781</td>\n",
       "      <td>8</td>\n",
       "      <td>2</td>\n",
       "      <td>110018</td>\n",
       "      <td>233</td>\n",
       "      <td>233</td>\n",
       "      <td>228</td>\n",
       "      <td>1</td>\n",
       "      <td>0</td>\n",
       "      <td>110018</td>\n",
       "      <td>2018-02-01</td>\n",
       "      <td>2018-01-27</td>\n",
       "      <td>2018-02-03</td>\n",
       "      <td>4388</td>\n",
       "      <td>2018-02-12</td>\n",
       "      <td>9</td>\n",
       "      <td>1518393600000000000</td>\n",
       "      <td>1517616000000000000</td>\n",
       "    </tr>\n",
       "    <tr>\n",
       "      <th>3</th>\n",
       "      <td>2838589</td>\n",
       "      <td>11</td>\n",
       "      <td>2</td>\n",
       "      <td>110018</td>\n",
       "      <td>233</td>\n",
       "      <td>233</td>\n",
       "      <td>228</td>\n",
       "      <td>2</td>\n",
       "      <td>0</td>\n",
       "      <td>124001</td>\n",
       "      <td>2018-01-17</td>\n",
       "      <td>2018-01-31</td>\n",
       "      <td>2018-02-04</td>\n",
       "      <td>4092</td>\n",
       "      <td>2018-02-14</td>\n",
       "      <td>9</td>\n",
       "      <td>1518566400000000000</td>\n",
       "      <td>1517702400000000000</td>\n",
       "    </tr>\n",
       "    <tr>\n",
       "      <th>4</th>\n",
       "      <td>2855214</td>\n",
       "      <td>12</td>\n",
       "      <td>21</td>\n",
       "      <td>110015</td>\n",
       "      <td>233</td>\n",
       "      <td>233</td>\n",
       "      <td>131</td>\n",
       "      <td>1</td>\n",
       "      <td>0</td>\n",
       "      <td>201301</td>\n",
       "      <td>2018-01-23</td>\n",
       "      <td>2018-01-20</td>\n",
       "      <td>2018-02-09</td>\n",
       "      <td>4580</td>\n",
       "      <td>2018-02-14</td>\n",
       "      <td>8</td>\n",
       "      <td>1518566400000000000</td>\n",
       "      <td>1518134400000000000</td>\n",
       "    </tr>\n",
       "  </tbody>\n",
       "</table>\n",
       "</div>"
      ],
      "text/plain": [
       "      srno  mobmake  hubid  hubpincode  pickuppartnerid  deliverypartnerid  \\\n",
       "0  2851218       12      7      500004              233                233   \n",
       "1  2838330        8     10      226010              233                233   \n",
       "2  2835781        8      2      110018              233                233   \n",
       "3  2838589       11      2      110018              233                233   \n",
       "4  2855214       12     21      110015              233                233   \n",
       "\n",
       "   insuranceCompanyId  custpincodecategory  claimtype  custpincode  \\\n",
       "0                 131                    1          0       500001   \n",
       "1                 131                    1          0       226022   \n",
       "2                 228                    1          0       110018   \n",
       "3                 228                    2          0       124001   \n",
       "4                 131                    1          0       201301   \n",
       "\n",
       "  memcreateddate mobilepurchasedate claimintdate  servicecntrid  \\\n",
       "0     2017-04-27         2016-12-02   2018-02-08           4403   \n",
       "1     2017-03-06         2017-03-05   2018-02-04           4444   \n",
       "2     2018-02-01         2018-01-27   2018-02-03           4388   \n",
       "3     2018-01-17         2018-01-31   2018-02-04           4092   \n",
       "4     2018-01-23         2018-01-20   2018-02-09           4580   \n",
       "\n",
       "  pickupStartdate  tat_in_days  pickupStartdate_Code    claimintdate_Code  \n",
       "0      2018-02-13            5   1518480000000000000  1518048000000000000  \n",
       "1      2018-02-08           12   1518048000000000000  1517702400000000000  \n",
       "2      2018-02-12            9   1518393600000000000  1517616000000000000  \n",
       "3      2018-02-14            9   1518566400000000000  1517702400000000000  \n",
       "4      2018-02-14            8   1518566400000000000  1518134400000000000  "
      ]
     },
     "execution_count": 601,
     "metadata": {},
     "output_type": "execute_result"
    }
   ],
   "source": [
    "df.head()"
   ]
  },
  {
   "cell_type": "markdown",
   "metadata": {},
   "source": [
    "### 2. Changing selection criteria"
   ]
  },
  {
   "cell_type": "code",
   "execution_count": 659,
   "metadata": {},
   "outputs": [],
   "source": [
    "feature_cols=['mobmake','hubpincode','pickuppartnerid','deliverypartnerid','insuranceCompanyId','custpincodecategory','claimtype','servicecntrid','pickupStartdate_Code','claimintdate_Code']"
   ]
  },
  {
   "cell_type": "code",
   "execution_count": 660,
   "metadata": {},
   "outputs": [
    {
     "data": {
      "text/plain": [
       "(6064, 10)"
      ]
     },
     "execution_count": 660,
     "metadata": {},
     "output_type": "execute_result"
    }
   ],
   "source": [
    "X=df[feature_cols]\n",
    "X.shape"
   ]
  },
  {
   "cell_type": "code",
   "execution_count": 661,
   "metadata": {},
   "outputs": [],
   "source": [
    "y=df['tat_in_days']"
   ]
  },
  {
   "cell_type": "code",
   "execution_count": 662,
   "metadata": {},
   "outputs": [],
   "source": [
    "X_train, X_test, y_train, y_test = train_test_split(X,y,test_size=0.25,random_state=1)"
   ]
  },
  {
   "cell_type": "markdown",
   "metadata": {},
   "source": [
    "### Linear Regression"
   ]
  },
  {
   "cell_type": "code",
   "execution_count": 663,
   "metadata": {},
   "outputs": [],
   "source": [
    "linreg = LinearRegression()\n",
    "linreg.fit(X_train,y_train)\n",
    "y_pred = linreg.predict(X_test)\n",
    "y_pred = y_pred.astype(int)"
   ]
  },
  {
   "cell_type": "code",
   "execution_count": 664,
   "metadata": {},
   "outputs": [
    {
     "data": {
      "text/plain": [
       "4.480020142246465"
      ]
     },
     "execution_count": 664,
     "metadata": {},
     "output_type": "execute_result"
    }
   ],
   "source": [
    "lr=np.sqrt(metrics.mean_squared_error(y_test,y_pred))\n",
    "lr"
   ]
  },
  {
   "cell_type": "code",
   "execution_count": null,
   "metadata": {},
   "outputs": [],
   "source": []
  },
  {
   "cell_type": "markdown",
   "metadata": {},
   "source": [
    "### Ridge Regression"
   ]
  },
  {
   "cell_type": "code",
   "execution_count": 665,
   "metadata": {},
   "outputs": [
    {
     "name": "stderr",
     "output_type": "stream",
     "text": [
      "c:\\users\\gunjan\\appdata\\local\\programs\\python\\python37-32\\lib\\site-packages\\sklearn\\linear_model\\ridge.py:147: LinAlgWarning: Ill-conditioned matrix (rcond=1.3426e-34): result may not be accurate.\n",
      "  overwrite_a=True).T\n"
     ]
    }
   ],
   "source": [
    "ridge = Ridge()\n",
    "ridge.fit(X_train,y_train)\n",
    "y_pred = ridge.predict(X_test)\n",
    "y_pred = y_pred.astype(int)"
   ]
  },
  {
   "cell_type": "code",
   "execution_count": 666,
   "metadata": {},
   "outputs": [
    {
     "data": {
      "text/plain": [
       "4.466010597796495"
      ]
     },
     "execution_count": 666,
     "metadata": {},
     "output_type": "execute_result"
    }
   ],
   "source": [
    "rr=np.sqrt(metrics.mean_squared_error(y_test,y_pred))\n",
    "rr"
   ]
  },
  {
   "cell_type": "code",
   "execution_count": null,
   "metadata": {},
   "outputs": [],
   "source": []
  },
  {
   "cell_type": "code",
   "execution_count": null,
   "metadata": {},
   "outputs": [],
   "source": []
  },
  {
   "cell_type": "markdown",
   "metadata": {},
   "source": [
    "### Lasso Regression"
   ]
  },
  {
   "cell_type": "code",
   "execution_count": 667,
   "metadata": {},
   "outputs": [
    {
     "name": "stderr",
     "output_type": "stream",
     "text": [
      "c:\\users\\gunjan\\appdata\\local\\programs\\python\\python37-32\\lib\\site-packages\\sklearn\\linear_model\\coordinate_descent.py:475: ConvergenceWarning: Objective did not converge. You might want to increase the number of iterations. Duality gap: 17336.554180940337, tolerance: 11.342131112576961\n",
      "  positive)\n"
     ]
    }
   ],
   "source": [
    "model = Lasso()\n",
    "model.fit(X_train,y_train)\n",
    "y_pred = model.predict(X_test)\n",
    "y_pred = y_pred.astype(int)"
   ]
  },
  {
   "cell_type": "code",
   "execution_count": 668,
   "metadata": {},
   "outputs": [
    {
     "data": {
      "text/plain": [
       "4.677882614172665"
      ]
     },
     "execution_count": 668,
     "metadata": {},
     "output_type": "execute_result"
    }
   ],
   "source": [
    "lar=np.sqrt(metrics.mean_squared_error(y_test,y_pred))\n",
    "lar"
   ]
  },
  {
   "cell_type": "markdown",
   "metadata": {},
   "source": [
    "### Model Evaluation"
   ]
  },
  {
   "cell_type": "code",
   "execution_count": 669,
   "metadata": {},
   "outputs": [
    {
     "data": {
      "text/html": [
       "<div>\n",
       "<style scoped>\n",
       "    .dataframe tbody tr th:only-of-type {\n",
       "        vertical-align: middle;\n",
       "    }\n",
       "\n",
       "    .dataframe tbody tr th {\n",
       "        vertical-align: top;\n",
       "    }\n",
       "\n",
       "    .dataframe thead th {\n",
       "        text-align: right;\n",
       "    }\n",
       "</style>\n",
       "<table border=\"1\" class=\"dataframe\">\n",
       "  <thead>\n",
       "    <tr style=\"text-align: right;\">\n",
       "      <th></th>\n",
       "      <th>Model</th>\n",
       "      <th>RMSE Score</th>\n",
       "    </tr>\n",
       "  </thead>\n",
       "  <tbody>\n",
       "    <tr>\n",
       "      <th>2</th>\n",
       "      <td>Ridge Regression</td>\n",
       "      <td>4.466011</td>\n",
       "    </tr>\n",
       "    <tr>\n",
       "      <th>0</th>\n",
       "      <td>Linear Regression</td>\n",
       "      <td>4.480020</td>\n",
       "    </tr>\n",
       "    <tr>\n",
       "      <th>1</th>\n",
       "      <td>Lasso Regression</td>\n",
       "      <td>4.677883</td>\n",
       "    </tr>\n",
       "  </tbody>\n",
       "</table>\n",
       "</div>"
      ],
      "text/plain": [
       "               Model  RMSE Score\n",
       "2   Ridge Regression    4.466011\n",
       "0  Linear Regression    4.480020\n",
       "1   Lasso Regression    4.677883"
      ]
     },
     "execution_count": 669,
     "metadata": {},
     "output_type": "execute_result"
    }
   ],
   "source": [
    "models = pd.DataFrame({\n",
    "    'Model': [ 'Linear Regression','Lasso Regression','Ridge Regression'],\n",
    "    'RMSE Score': [lr,lar,rr]})\n",
    "models.sort_values(by='RMSE Score', ascending=True)"
   ]
  },
  {
   "cell_type": "markdown",
   "metadata": {},
   "source": [
    "#### RMSE Score through Ridge Regression=4.466011"
   ]
  },
  {
   "cell_type": "markdown",
   "metadata": {},
   "source": [
    "### 3. Changing selection criteria"
   ]
  },
  {
   "cell_type": "code",
   "execution_count": 670,
   "metadata": {},
   "outputs": [],
   "source": [
    "feature_cols=['mobmake','hubpincode','pickuppartnerid','deliverypartnerid','insuranceCompanyId','claimtype','custpincode','servicecntrid','pickupStartdate_Code','claimintdate_Code']"
   ]
  },
  {
   "cell_type": "code",
   "execution_count": 671,
   "metadata": {},
   "outputs": [
    {
     "data": {
      "text/plain": [
       "(6064, 10)"
      ]
     },
     "execution_count": 671,
     "metadata": {},
     "output_type": "execute_result"
    }
   ],
   "source": [
    "X=df[feature_cols]\n",
    "X.shape\n"
   ]
  },
  {
   "cell_type": "code",
   "execution_count": 672,
   "metadata": {},
   "outputs": [],
   "source": [
    "y=df['tat_in_days']"
   ]
  },
  {
   "cell_type": "code",
   "execution_count": 673,
   "metadata": {},
   "outputs": [],
   "source": [
    "X_train, X_test, y_train, y_test = train_test_split(X,y,test_size=0.18,random_state=1)"
   ]
  },
  {
   "cell_type": "markdown",
   "metadata": {},
   "source": [
    "### Linear Regression"
   ]
  },
  {
   "cell_type": "code",
   "execution_count": 674,
   "metadata": {},
   "outputs": [],
   "source": [
    "linreg = LinearRegression()\n",
    "linreg.fit(X_train,y_train)\n",
    "y_pred = linreg.predict(X_test)\n",
    "y_pred = y_pred.astype(int)"
   ]
  },
  {
   "cell_type": "code",
   "execution_count": 675,
   "metadata": {},
   "outputs": [
    {
     "data": {
      "text/plain": [
       "4.683870695124353"
      ]
     },
     "execution_count": 675,
     "metadata": {},
     "output_type": "execute_result"
    }
   ],
   "source": [
    "lr=np.sqrt(metrics.mean_squared_error(y_test,y_pred))\n",
    "lr"
   ]
  },
  {
   "cell_type": "markdown",
   "metadata": {},
   "source": [
    "### Ridge Regression"
   ]
  },
  {
   "cell_type": "code",
   "execution_count": 676,
   "metadata": {},
   "outputs": [
    {
     "name": "stderr",
     "output_type": "stream",
     "text": [
      "c:\\users\\gunjan\\appdata\\local\\programs\\python\\python37-32\\lib\\site-packages\\sklearn\\linear_model\\ridge.py:147: LinAlgWarning: Ill-conditioned matrix (rcond=1.23267e-34): result may not be accurate.\n",
      "  overwrite_a=True).T\n"
     ]
    }
   ],
   "source": [
    "ridge = Ridge()\n",
    "ridge.fit(X_train,y_train)\n",
    "y_pred = ridge.predict(X_test)\n",
    "y_pred = y_pred.astype(int)"
   ]
  },
  {
   "cell_type": "code",
   "execution_count": 677,
   "metadata": {},
   "outputs": [
    {
     "data": {
      "text/plain": [
       "4.668595885894125"
      ]
     },
     "execution_count": 677,
     "metadata": {},
     "output_type": "execute_result"
    }
   ],
   "source": [
    "rr=np.sqrt(metrics.mean_squared_error(y_test,y_pred))\n",
    "rr"
   ]
  },
  {
   "cell_type": "markdown",
   "metadata": {},
   "source": [
    "### Lasso Regression"
   ]
  },
  {
   "cell_type": "code",
   "execution_count": 678,
   "metadata": {},
   "outputs": [],
   "source": [
    "model = Lasso()\n",
    "model.fit(X_train,y_train)\n",
    "y_pred = model.predict(X_test)\n",
    "y_pred = y_pred.astype(int)"
   ]
  },
  {
   "cell_type": "code",
   "execution_count": 679,
   "metadata": {},
   "outputs": [
    {
     "data": {
      "text/plain": [
       "4.680154501065767"
      ]
     },
     "execution_count": 679,
     "metadata": {},
     "output_type": "execute_result"
    }
   ],
   "source": [
    "lar=np.sqrt(metrics.mean_squared_error(y_test,y_pred))\n",
    "lar"
   ]
  },
  {
   "cell_type": "markdown",
   "metadata": {},
   "source": [
    "### Model Evaluation"
   ]
  },
  {
   "cell_type": "code",
   "execution_count": 680,
   "metadata": {},
   "outputs": [
    {
     "data": {
      "text/html": [
       "<div>\n",
       "<style scoped>\n",
       "    .dataframe tbody tr th:only-of-type {\n",
       "        vertical-align: middle;\n",
       "    }\n",
       "\n",
       "    .dataframe tbody tr th {\n",
       "        vertical-align: top;\n",
       "    }\n",
       "\n",
       "    .dataframe thead th {\n",
       "        text-align: right;\n",
       "    }\n",
       "</style>\n",
       "<table border=\"1\" class=\"dataframe\">\n",
       "  <thead>\n",
       "    <tr style=\"text-align: right;\">\n",
       "      <th></th>\n",
       "      <th>Model</th>\n",
       "      <th>RMSE Score</th>\n",
       "    </tr>\n",
       "  </thead>\n",
       "  <tbody>\n",
       "    <tr>\n",
       "      <th>2</th>\n",
       "      <td>Ridge Regression</td>\n",
       "      <td>4.668596</td>\n",
       "    </tr>\n",
       "    <tr>\n",
       "      <th>1</th>\n",
       "      <td>Lasso Regression</td>\n",
       "      <td>4.680155</td>\n",
       "    </tr>\n",
       "    <tr>\n",
       "      <th>0</th>\n",
       "      <td>Linear Regression</td>\n",
       "      <td>4.683871</td>\n",
       "    </tr>\n",
       "  </tbody>\n",
       "</table>\n",
       "</div>"
      ],
      "text/plain": [
       "               Model  RMSE Score\n",
       "2   Ridge Regression    4.668596\n",
       "1   Lasso Regression    4.680155\n",
       "0  Linear Regression    4.683871"
      ]
     },
     "execution_count": 680,
     "metadata": {},
     "output_type": "execute_result"
    }
   ],
   "source": [
    "models = pd.DataFrame({\n",
    "    'Model': [ 'Linear Regression','Lasso Regression','Ridge Regression'],\n",
    "    'RMSE Score': [lr,lar,rr]})\n",
    "models.sort_values(by='RMSE Score', ascending=True)"
   ]
  },
  {
   "cell_type": "code",
   "execution_count": null,
   "metadata": {},
   "outputs": [],
   "source": []
  },
  {
   "cell_type": "markdown",
   "metadata": {},
   "source": [
    "### The best model that fits to the problem is Ridge Regression with RMSE Score in selection criteria 1= 4.450771"
   ]
  },
  {
   "cell_type": "code",
   "execution_count": 681,
   "metadata": {},
   "outputs": [],
   "source": [
    "X_test = dft[['mobmake','hubpincode','pickuppartnerid','deliverypartnerid','insuranceCompanyId','custpincodecategory','claimtype','custpincode','servicecntrid','pickupStartdate_Code','claimintdate_Code']]\n",
    "y_pred = ridge1.predict(X_test)\n",
    "y_pred = y_pred.astype(int)\n",
    "dft['tat_in_days'] = y_pred\n",
    "dft.to_csv('problem_2_test.csv')"
   ]
  }
 ],
 "metadata": {
  "kernelspec": {
   "display_name": "Python 3",
   "language": "python",
   "name": "python3"
  },
  "language_info": {
   "codemirror_mode": {
    "name": "ipython",
    "version": 3
   },
   "file_extension": ".py",
   "mimetype": "text/x-python",
   "name": "python",
   "nbconvert_exporter": "python",
   "pygments_lexer": "ipython3",
   "version": "3.7.3"
  }
 },
 "nbformat": 4,
 "nbformat_minor": 2
}
